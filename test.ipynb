{
  "nbformat": 4,
  "nbformat_minor": 0,
  "metadata": {
    "colab": {
      "provenance": [],
      "mount_file_id": "1xMhyFx2TpCWqxL6BmnXlj8KfQojUw25Y",
      "authorship_tag": "ABX9TyNewhGL5nAunrxH20BpQIwr",
      "include_colab_link": true
    },
    "kernelspec": {
      "name": "python3",
      "display_name": "Python 3"
    },
    "language_info": {
      "name": "python"
    }
  },
  "cells": [
    {
      "cell_type": "markdown",
      "metadata": {
        "id": "view-in-github",
        "colab_type": "text"
      },
      "source": [
        "<a href=\"https://colab.research.google.com/github/SStakafumi/Python_data_analysis_100knock/blob/main/test.ipynb\" target=\"_parent\"><img src=\"https://colab.research.google.com/assets/colab-badge.svg\" alt=\"Open In Colab\"/></a>"
      ]
    },
    {
      "cell_type": "code",
      "execution_count": null,
      "metadata": {
        "colab": {
          "base_uri": "https://localhost:8080/"
        },
        "id": "6sXN2nfosRaq",
        "outputId": "8b9b388b-56e9-4eba-be53-7b54c4c9ed22"
      },
      "outputs": [
        {
          "output_type": "stream",
          "name": "stdout",
          "text": [
            "/content\n"
          ]
        }
      ],
      "source": [
        "!pwd"
      ]
    },
    {
      "cell_type": "code",
      "source": [
        "!pwd"
      ],
      "metadata": {
        "id": "YVLiZGmxugUX",
        "colab": {
          "base_uri": "https://localhost:8080/"
        },
        "outputId": "e2b11dae-7717-4714-f3ee-284e444698d0"
      },
      "execution_count": 6,
      "outputs": [
        {
          "output_type": "stream",
          "name": "stdout",
          "text": [
            "/content\n"
          ]
        }
      ]
    },
    {
      "cell_type": "code",
      "source": [
        "!cd"
      ],
      "metadata": {
        "id": "JzCETSLwCuBN"
      },
      "execution_count": 5,
      "outputs": []
    },
    {
      "cell_type": "code",
      "source": [
        "!chmod go-rwx /root/.ssh/id_rsa"
      ],
      "metadata": {
        "id": "WdUGMlLYCwVW"
      },
      "execution_count": 10,
      "outputs": []
    },
    {
      "cell_type": "code",
      "source": [
        "!cat /root/.ssh/id_rsa.pub"
      ],
      "metadata": {
        "colab": {
          "base_uri": "https://localhost:8080/"
        },
        "id": "ZEn3rpQaCyuA",
        "outputId": "64de0c8b-b84b-45a0-e19b-8b42f7ba9943"
      },
      "execution_count": 11,
      "outputs": [
        {
          "output_type": "stream",
          "name": "stdout",
          "text": [
            "ssh-rsa AAAAB3NzaC1yc2EAAAADAQABAAABgQDB1J+I5ViYZmVUlCnmGwIrHha6U55iP04/+cElzooaUSaXvOpJz2ZudB7GvkPc6JRUcEBWvRX8gw1g871gqaoe9X6u+viSiBOQkybb/YHFlXs1drcdeozI7X1Z24S9SEuzLs62iMVnH9yiyVQYESrX5OZ8pD5Bv4ZGifVkam3Rr3K8ArIJ24GfeKIygwGRZmmUMB7UzE9Hm0ygjP7g83AeGStfu6v6TyhXI/2Pzqp3OSzvtIrBxcCp6QD2C6sSY+iGZIk+Y6i9+xDEl1Tt1m/rf8a4aUirNVoIc03GBjCN6RO+a9v3yLj1ju/cxayy4ewVj4ofdCGbmPmIzba9lf1hU8zu4avAKzRG36gar4SlPkiVBFhb1wNogGMCwYQ/HLn9e2qSneZBOS8xufeKTRjUtYaIcuvFzlS4X4YERYaOa7ar3DVENIP6cKbWdCbUhEO+sDM5WVXBksJ3TihBGpeBKQirbmAECqF9Y3NKo1LotEWk+vz5ITYNHEuWRmdh09k= root@93cb167f9967\n"
          ]
        }
      ]
    },
    {
      "cell_type": "code",
      "source": [
        "!cd ~/.ssh"
      ],
      "metadata": {
        "id": "Rso9ZPUtEEiQ"
      },
      "execution_count": 12,
      "outputs": []
    },
    {
      "cell_type": "code",
      "source": [
        "!pwd"
      ],
      "metadata": {
        "colab": {
          "base_uri": "https://localhost:8080/"
        },
        "id": "AHau3cM7FT8v",
        "outputId": "96964d6c-c718-4887-fb84-642392338be5"
      },
      "execution_count": 14,
      "outputs": [
        {
          "output_type": "stream",
          "name": "stdout",
          "text": [
            "/content\n"
          ]
        }
      ]
    },
    {
      "cell_type": "code",
      "source": [
        "!ls"
      ],
      "metadata": {
        "colab": {
          "base_uri": "https://localhost:8080/"
        },
        "id": "5Ilcq0EiFVgt",
        "outputId": "65ec7c2d-2ebb-4303-db72-7878c5ceca4d"
      },
      "execution_count": 15,
      "outputs": [
        {
          "output_type": "stream",
          "name": "stdout",
          "text": [
            "drive  sample_data\n"
          ]
        }
      ]
    },
    {
      "cell_type": "code",
      "source": [
        "%cd ~/.ssh"
      ],
      "metadata": {
        "colab": {
          "base_uri": "https://localhost:8080/"
        },
        "id": "G1neqk_XFZD_",
        "outputId": "d19ef801-cd60-4f0f-f56a-4090c6a59aff"
      },
      "execution_count": 16,
      "outputs": [
        {
          "output_type": "stream",
          "name": "stdout",
          "text": [
            "/root/.ssh\n"
          ]
        }
      ]
    },
    {
      "cell_type": "code",
      "source": [
        "!ls"
      ],
      "metadata": {
        "colab": {
          "base_uri": "https://localhost:8080/"
        },
        "id": "X8ivagPSFcO5",
        "outputId": "bca769fa-137c-4169-b106-cb2967ef3a5a"
      },
      "execution_count": 17,
      "outputs": [
        {
          "output_type": "stream",
          "name": "stdout",
          "text": [
            "id_rsa\tid_rsa.pub  known_hosts\n"
          ]
        }
      ]
    },
    {
      "cell_type": "code",
      "source": [
        "!ls -la | grep github"
      ],
      "metadata": {
        "id": "ZfwbudSjFePp"
      },
      "execution_count": 18,
      "outputs": []
    },
    {
      "cell_type": "code",
      "source": [],
      "metadata": {
        "id": "dVuKqi4aFoXE"
      },
      "execution_count": null,
      "outputs": []
    }
  ]
}